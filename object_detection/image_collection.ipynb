{
 "cells": [
  {
   "attachments": {},
   "cell_type": "markdown",
   "metadata": {},
   "source": [
    "# capture and label images for training"
   ]
  },
  {
   "cell_type": "code",
   "execution_count": 1,
   "metadata": {},
   "outputs": [],
   "source": [
    "import cv2\n",
    "import uuid\n",
    "import os\n",
    "import time"
   ]
  },
  {
   "attachments": {},
   "cell_type": "markdown",
   "metadata": {},
   "source": [
    "### all labels and amount of images to take per label"
   ]
  },
  {
   "cell_type": "code",
   "execution_count": 20,
   "metadata": {},
   "outputs": [],
   "source": [
    "labels = [\"mouse\", \"ball\", \"charger\", \"marker\"]\n",
    "num_img = 17"
   ]
  },
  {
   "attachments": {},
   "cell_type": "markdown",
   "metadata": {},
   "source": [
    "### make the file hierarchy"
   ]
  },
  {
   "cell_type": "code",
   "execution_count": 21,
   "metadata": {},
   "outputs": [],
   "source": [
    "IMAGES_PATH = os.path.join(\"Tensorflow\", \"workspace\", \"images\", \"collectedimages\")\n",
    "\n",
    "for label in labels:\n",
    "    path = os.path.join(IMAGES_PATH, label)\n",
    "    if not os.path.exists(path):\n",
    "        !mkdir {path}"
   ]
  },
  {
   "attachments": {},
   "cell_type": "markdown",
   "metadata": {},
   "source": [
    "### open camera and capture images"
   ]
  },
  {
   "cell_type": "code",
   "execution_count": 23,
   "metadata": {},
   "outputs": [
    {
     "name": "stdout",
     "output_type": "stream",
     "text": [
      "collecting image number 0 for mouse\n",
      "saved image number 0 for mouse\n",
      "collecting image number 1 for mouse\n",
      "saved image number 1 for mouse\n",
      "collecting image number 2 for mouse\n",
      "saved image number 2 for mouse\n",
      "collecting image number 3 for mouse\n",
      "saved image number 3 for mouse\n",
      "collecting image number 4 for mouse\n",
      "saved image number 4 for mouse\n",
      "collecting image number 5 for mouse\n",
      "saved image number 5 for mouse\n",
      "collecting image number 6 for mouse\n",
      "saved image number 6 for mouse\n",
      "collecting image number 7 for mouse\n",
      "saved image number 7 for mouse\n",
      "collecting image number 8 for mouse\n",
      "saved image number 8 for mouse\n",
      "collecting image number 9 for mouse\n",
      "saved image number 9 for mouse\n",
      "collecting image number 10 for mouse\n",
      "saved image number 10 for mouse\n",
      "collecting image number 11 for mouse\n",
      "saved image number 11 for mouse\n",
      "collecting image number 12 for mouse\n",
      "saved image number 12 for mouse\n",
      "collecting image number 13 for mouse\n",
      "saved image number 13 for mouse\n",
      "collecting image number 14 for mouse\n",
      "saved image number 14 for mouse\n",
      "collecting image number 15 for mouse\n",
      "saved image number 15 for mouse\n",
      "collecting image number 16 for mouse\n",
      "saved image number 16 for mouse\n",
      "collecting image number 0 for ball\n",
      "saved image number 0 for ball\n",
      "collecting image number 1 for ball\n",
      "saved image number 1 for ball\n",
      "collecting image number 2 for ball\n",
      "saved image number 2 for ball\n",
      "collecting image number 3 for ball\n",
      "saved image number 3 for ball\n",
      "collecting image number 4 for ball\n",
      "saved image number 4 for ball\n",
      "collecting image number 5 for ball\n",
      "saved image number 5 for ball\n",
      "collecting image number 6 for ball\n",
      "saved image number 6 for ball\n",
      "collecting image number 7 for ball\n",
      "saved image number 7 for ball\n",
      "collecting image number 8 for ball\n",
      "saved image number 8 for ball\n",
      "collecting image number 9 for ball\n",
      "saved image number 9 for ball\n",
      "collecting image number 10 for ball\n",
      "saved image number 10 for ball\n",
      "collecting image number 11 for ball\n",
      "saved image number 11 for ball\n",
      "collecting image number 12 for ball\n",
      "saved image number 12 for ball\n",
      "collecting image number 13 for ball\n",
      "saved image number 13 for ball\n",
      "collecting image number 14 for ball\n",
      "saved image number 14 for ball\n",
      "collecting image number 15 for ball\n",
      "saved image number 15 for ball\n",
      "collecting image number 16 for ball\n",
      "saved image number 16 for ball\n",
      "collecting image number 0 for charger\n",
      "saved image number 0 for charger\n",
      "collecting image number 1 for charger\n",
      "saved image number 1 for charger\n",
      "collecting image number 2 for charger\n",
      "saved image number 2 for charger\n",
      "collecting image number 3 for charger\n",
      "saved image number 3 for charger\n",
      "collecting image number 4 for charger\n",
      "saved image number 4 for charger\n",
      "collecting image number 5 for charger\n",
      "saved image number 5 for charger\n",
      "collecting image number 6 for charger\n",
      "saved image number 6 for charger\n",
      "collecting image number 7 for charger\n",
      "saved image number 7 for charger\n",
      "collecting image number 8 for charger\n",
      "saved image number 8 for charger\n",
      "collecting image number 9 for charger\n",
      "saved image number 9 for charger\n",
      "collecting image number 10 for charger\n",
      "saved image number 10 for charger\n",
      "collecting image number 11 for charger\n",
      "saved image number 11 for charger\n",
      "collecting image number 12 for charger\n",
      "saved image number 12 for charger\n",
      "collecting image number 13 for charger\n",
      "saved image number 13 for charger\n",
      "collecting image number 14 for charger\n",
      "saved image number 14 for charger\n",
      "collecting image number 15 for charger\n",
      "saved image number 15 for charger\n",
      "collecting image number 16 for charger\n",
      "saved image number 16 for charger\n",
      "collecting image number 0 for marker\n",
      "saved image number 0 for marker\n",
      "collecting image number 1 for marker\n",
      "saved image number 1 for marker\n",
      "collecting image number 2 for marker\n",
      "saved image number 2 for marker\n",
      "collecting image number 3 for marker\n",
      "saved image number 3 for marker\n",
      "collecting image number 4 for marker\n",
      "saved image number 4 for marker\n",
      "collecting image number 5 for marker\n",
      "saved image number 5 for marker\n",
      "collecting image number 6 for marker\n",
      "saved image number 6 for marker\n",
      "collecting image number 7 for marker\n",
      "saved image number 7 for marker\n",
      "collecting image number 8 for marker\n",
      "saved image number 8 for marker\n",
      "collecting image number 9 for marker\n",
      "saved image number 9 for marker\n",
      "collecting image number 10 for marker\n",
      "saved image number 10 for marker\n",
      "collecting image number 11 for marker\n",
      "saved image number 11 for marker\n",
      "collecting image number 12 for marker\n",
      "saved image number 12 for marker\n",
      "collecting image number 13 for marker\n",
      "saved image number 13 for marker\n",
      "collecting image number 14 for marker\n",
      "saved image number 14 for marker\n",
      "collecting image number 15 for marker\n",
      "saved image number 15 for marker\n",
      "collecting image number 16 for marker\n",
      "saved image number 16 for marker\n"
     ]
    }
   ],
   "source": [
    "video = cv2.VideoCapture(3)\n",
    "for label in labels:\n",
    "    for img in range(num_img):\n",
    "        print(f\"collecting image number {img} for {label}\")\n",
    "        img_name = os.path.join(IMAGES_PATH, label, f\"{label}.{str(uuid.uuid1())}.jpg\")\n",
    "        while True: \n",
    "            ret, frame = video.read()\n",
    "            cv2.imshow(\"frame\", frame)\n",
    "            k = cv2.waitKey(1) & 0xFF\n",
    "            #save\n",
    "            if k == ord(\"s\"):\n",
    "                cv2.imwrite(img_name, frame)\n",
    "                print(f\"saved image number {img} for {label}\")\n",
    "                break\n",
    "            #quit (will error)\n",
    "            elif k == ord(\"q\"):\n",
    "                print(\"quit\")\n",
    "                video.release()\n",
    "                cv2.destroyAllWindows()\n",
    "\n",
    "        \n",
    "video.release()\n",
    "cv2.destroyAllWindows()\n",
    "            \n",
    "        "
   ]
  },
  {
   "attachments": {},
   "cell_type": "markdown",
   "metadata": {},
   "source": [
    "### run app for labeing images"
   ]
  },
  {
   "cell_type": "code",
   "execution_count": 8,
   "metadata": {},
   "outputs": [],
   "source": [
    "LABELING_PATH = os.path.join(\"Tensorflow\", \"labelimg\")"
   ]
  },
  {
   "cell_type": "code",
   "execution_count": 25,
   "metadata": {},
   "outputs": [
    {
     "name": "stdout",
     "output_type": "stream",
     "text": [
      "QSocketNotifier: Can only be used with threads started with QThread\n"
     ]
    }
   ],
   "source": [
    "!cd {LABELING_PATH} && python3 labelImg.py"
   ]
  }
 ],
 "metadata": {
  "kernelspec": {
   "display_name": "Python 3",
   "language": "python",
   "name": "python3"
  },
  "language_info": {
   "codemirror_mode": {
    "name": "ipython",
    "version": 3
   },
   "file_extension": ".py",
   "mimetype": "text/x-python",
   "name": "python",
   "nbconvert_exporter": "python",
   "pygments_lexer": "ipython3",
   "version": "3.10.6"
  },
  "orig_nbformat": 4
 },
 "nbformat": 4,
 "nbformat_minor": 2
}
